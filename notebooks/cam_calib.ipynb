{
 "cells": [
  {
   "cell_type": "code",
   "execution_count": null,
   "id": "9611ad2e-bb29-45f8-a9f9-350e179c91b3",
   "metadata": {},
   "outputs": [],
   "source": [
    "import jax.numpy as np\n",
    "import jax\n",
    "from jax import jit\n",
    "import util\n",
    "np.set_printoptions(precision=4)"
   ]
  },
  {
   "cell_type": "code",
   "execution_count": 51,
   "id": "c70c485c-8560-4415-a4a8-12006f51081a",
   "metadata": {},
   "outputs": [],
   "source": [
    "# [x y z roll pitch yaw]\n",
    "cam_poses = np.array([\n",
    "    [20, 20, 12, 0, 0, -2.2],\n",
    "    [20, -15, 12, 0, 0, 2.2],\n",
    "    [-20, -20, 12, 0, 0, 0.7],\n",
    "    [-20, 20, 12, 0, 0, -0.7],\n",
    "])\n",
    "cam_param = [642.0926, 642.0926, 1000.5, 1000.5,0]\n",
    "cam = 3\n",
    "\n",
    "R_model2cam = np.array([\n",
    "        [0, 1, 0],\n",
    "        [0, 0, 1],\n",
    "        [-1, 0, 0],        \n",
    "    ])\n",
    "\n",
    "def cart2hom(point):\n",
    "    return np.hstack([point,1.0])\n",
    "\n",
    "def hom2cart(coord):\n",
    "    coord = coord[0:-1]/coord[-1]\n",
    "    return coord\n",
    "\n",
    "def wrap(x):\n",
    "    return np.where(np.abs(x) >= np.pi, (x + np.pi) % (2 * np.pi) - np.pi, x)\n",
    "\n",
    "def wrap_vec(v):\n",
    "    return np.array([wrap (vi) for vi in v])\n",
    "\n",
    "def so3_wedge(w):\n",
    "    wx = np.array([\n",
    "        [0, -w[2], w[1]],\n",
    "        [w[2], 0, -w[0]],\n",
    "        [-w[1], w[0], 0]\n",
    "    ])\n",
    "    return -wx\n",
    "\n",
    "def so3_vee(wx):\n",
    "    w = np.array([wx[2,1], wx[0,2], w[1,0]])\n",
    "    return w\n",
    "\n",
    "eps = 1e-7\n",
    "def so3_exp(w):\n",
    "    theta = np.linalg.norm(w)\n",
    "    \n",
    "    wx = so3_wedge(w)\n",
    "    C1 = np.where(theta > eps, np.sin(theta)/theta, 1 - theta**2/6 + theta**4/120 - theta**6/5040)\n",
    "    C2 = np.where(theta > eps, (1 - np.cos(theta))/theta**2, 1/2 - theta**2/24 + theta**4/720 - theta**6/40320)\n",
    "    \n",
    "    return np.eye(3) + C1 * wx + C2 * wx @ wx\n",
    "\n",
    "def so3_log(R):\n",
    "    theta = np.arccos((np.linalg.trace(R) - 1) / 2)\n",
    "    return so3_vee(C3(theta) * (R - R.T))\n",
    "\n",
    "def get_cam_in(cam_param):\n",
    "    fx = cam_param[0]\n",
    "    fy = cam_param[1]\n",
    "    cx = cam_param[2]\n",
    "    cy = cam_param[3]\n",
    "    s = cam_param[4]\n",
    "    cam_in = np.array([\n",
    "        [fx, s, cx],\n",
    "        [0, fy, cy],\n",
    "        [0, 0, 1],\n",
    "    ])\n",
    "    return cam_in\n",
    "\n",
    "def get_cam_ex_lie(cam_pos, cam_att):\n",
    "    R_world2model = so3_exp(cam_att)\n",
    "    cam_ex = R_model2cam @ R_world2model @ np.block([np.eye(3), -cam_pos.reshape(-1,1)])\n",
    "    return cam_ex\n",
    "\n",
    "def get_cam_mat_lie(cam_param, cam_pos, cam_att):\n",
    "    cam_in = get_cam_in(cam_param)\n",
    "    cam_ex = get_cam_ex_lie(cam_pos, cam_att)\n",
    "    return cam_in @ cam_ex\n",
    "\n",
    "def euler2dcm(euler):\n",
    "    from jax.numpy import sin,cos\n",
    "    phi = euler[0]\n",
    "    theta = euler[1]\n",
    "    psi = euler[2]\n",
    "    \n",
    "    R1 = np.array([\n",
    "        [1, 0, 0],\n",
    "        [0, cos(phi), sin(phi)],\n",
    "        [0, -sin(phi), cos(phi)],\n",
    "    ])\n",
    "    R2 = np.array([\n",
    "        [cos(theta), 0, -sin(theta)],\n",
    "        [0, 1, 0],\n",
    "        [sin(theta), 0, cos(theta)],\n",
    "    ])\n",
    "    R3 = np.array([\n",
    "        [cos(psi), sin(psi), 0],\n",
    "        [-sin(psi), cos(psi), 0],\n",
    "        [0, 0 , 1]\n",
    "    ])\n",
    "    dcm = R1 @ R2 @ R3\n",
    "    return dcm\n",
    "\n",
    "# this is the euler angle version\n",
    "def get_cam_ex_euler(cam_pos, cam_euler):\n",
    "    R_world2model = euler2dcm(cam_euler)\n",
    "    cam_ex = R_model2cam @ R_world2model @ np.block([np.eye(3), -cam_pos.reshape(-1,1)])\n",
    "    return cam_ex\n",
    "    \n",
    "def get_cam_mat_euler(cam_param, cam_pos, cam_euler):\n",
    "    cam_in = get_cam_in(cam_param)    \n",
    "    cam_ex = get_cam_ex_euler(cam_pos, cam_euler)\n",
    "\n",
    "    cam_mat = cam_in @ cam_ex\n",
    "    return cam_mat\n"
   ]
  },
  {
   "cell_type": "code",
   "execution_count": 12,
   "id": "a0ab2b2b-6562-45c4-9ab1-4cd7dc7bf2d3",
   "metadata": {},
   "outputs": [
    {
     "data": {
      "text/plain": [
       "array([-45425, -25781,    -25], dtype=int32)"
      ]
     },
     "execution_count": 12,
     "metadata": {},
     "output_type": "execute_result"
    }
   ],
   "source": [
    "cam_mat_true = util.get_cam_mat_euler(cam_param, cam_poses[cam][0:3], cam_poses[cam][3:6])\n",
    "p1_hom = cam_mat_true @ util.cart2hom(cam_poses[1][0:3])\n",
    "p2_hom = cam_mat_true @ util.cart2hom(cam_poses[2][0:3])\n",
    "p2_hom.astype('int32')\n"
   ]
  },
  {
   "cell_type": "code",
   "execution_count": 13,
   "id": "b7ecb82c-0083-43d4-b388-b2b98a5bb2a8",
   "metadata": {},
   "outputs": [
    {
     "data": {
      "text/plain": [
       "DeviceArray([1.9153e+09, 6.7537e+08, 4.4024e+09], dtype=float32)"
      ]
     },
     "execution_count": 13,
     "metadata": {},
     "output_type": "execute_result"
    }
   ],
   "source": [
    "def f_calib_euler(cam_att):\n",
    "    cam_pos = cam_poses[cam][0:3]\n",
    "    cam_mat = get_cam_mat_euler(cam_param, cam_poses[cam][0:3], cam_att)\n",
    "    p1_hom_hat = cam_mat @ cart2hom(cam_poses[1][0:3])\n",
    "    p2_hom_hat = cam_mat @ cart2hom(cam_poses[2][0:3])                                                                                  \n",
    "\n",
    "    err = np.linalg.norm(np.hstack([p1_hom-p1_hom_hat, p2_hom-p2_hom_hat]))**2\n",
    "    return err\n",
    "\n",
    "df_calib_euler = jax.jacobian(f_calib_euler)\n",
    "df_calib_euler(np.array([.0, .0, -0.0]))"
   ]
  },
  {
   "cell_type": "code",
   "execution_count": 14,
   "id": "b35138c4-b56b-41c9-bb67-52f2f1ea2a58",
   "metadata": {},
   "outputs": [
    {
     "data": {
      "text/plain": [
       "DeviceArray(3.4332e-05, dtype=float32)"
      ]
     },
     "execution_count": 14,
     "metadata": {},
     "output_type": "execute_result"
    }
   ],
   "source": [
    "f_calib_euler([0., 0., -0.7])"
   ]
  },
  {
   "cell_type": "code",
   "execution_count": 15,
   "id": "e31a356a-2d6e-4c71-9e44-e1de0e76ff4d",
   "metadata": {},
   "outputs": [
    {
     "data": {
      "text/plain": [
       "DeviceArray([-25683.703,      0.   ,      0.   ], dtype=float32)"
      ]
     },
     "execution_count": 15,
     "metadata": {},
     "output_type": "execute_result"
    }
   ],
   "source": [
    "get_cam_mat_euler(cam_param, cam_poses[cam][0:3], [0,0,0]) @ np.array([-20, -20, 12, 1])"
   ]
  },
  {
   "cell_type": "code",
   "execution_count": 16,
   "id": "0b567877-40c7-40a8-959e-5eb44bc21c7c",
   "metadata": {},
   "outputs": [],
   "source": [
    "def hessian(f):\n",
    "    return jax.jacfwd(jax.jacrev(f))"
   ]
  },
  {
   "cell_type": "code",
   "execution_count": 71,
   "id": "d52c2868-8a92-47e5-95f6-759cdf8f5109",
   "metadata": {},
   "outputs": [
    {
     "name": "stdout",
     "output_type": "stream",
     "text": [
      "The minimum is 6.484992627520114e-05 \n",
      "the arg min is (-1.3667482789969654e-07,-3.927314295992801e-08,-0.6999997496604919)\n"
     ]
    }
   ],
   "source": [
    "H = hessian(f_calib_euler)\n",
    "J = jax.jacfwd(f_calib_euler)\n",
    "\n",
    "@jit\n",
    "def minHessian(x): \n",
    "    return x - 0.1*np.linalg.inv(H(x)) @ J(x)  \n",
    "\n",
    "key = jax.random.PRNGKey(42)\n",
    "domain = jax.random.uniform(key, shape=(50,3), dtype='float32', minval=-np.pi, maxval=np.pi)\n",
    "\n",
    "vfuncHS = jax.vmap(minHessian)\n",
    "for epoch in range(200):\n",
    "  domain = vfuncHS(domain)\n",
    "\n",
    "minfunc = jax.vmap(f_calib_euler)\n",
    "minimums = minfunc(domain)\n",
    "\n",
    "# After running the loop, we look for the argmin and the objective minimum\n",
    "\n",
    "arglist = np.nanargmin(minimums)\n",
    "argmin = domain[arglist]\n",
    "minimum = minimums[arglist]\n",
    "\n",
    "print(\"The minimum is {} \\nthe arg min is ({},{},{})\".format(minimum,argmin[0],argmin[1],argmin[2]))"
   ]
  },
  {
   "cell_type": "code",
   "execution_count": 18,
   "id": "91707c59-b181-429c-bc94-be8cfc134a0a",
   "metadata": {},
   "outputs": [
    {
     "name": "stdout",
     "output_type": "stream",
     "text": [
      "cam_att [-1.3667e-07 -3.9273e-08 -7.0000e-01]\n",
      "error 6.4849926e-05\n"
     ]
    }
   ],
   "source": [
    "print('cam_att', argmin)\n",
    "print('error', minimum)"
   ]
  },
  {
   "cell_type": "code",
   "execution_count": 19,
   "id": "37f0ae27-0610-4e09-a62d-323803555730",
   "metadata": {},
   "outputs": [
    {
     "data": {
      "text/plain": [
       "DeviceArray([1.9153e+09, 6.7537e+08, 4.4024e+09], dtype=float32)"
      ]
     },
     "execution_count": 19,
     "metadata": {},
     "output_type": "execute_result"
    }
   ],
   "source": [
    "def f_calib_lie(cam_att):\n",
    "    cam_pos = cam_poses[cam][0:3]\n",
    "    cam_mat = get_cam_mat_lie(cam_param, cam_poses[cam][0:3], cam_att)\n",
    "    p1_hom_hat = cam_mat @ cart2hom(cam_poses[1][0:3])\n",
    "    p2_hom_hat = cam_mat @ cart2hom(cam_poses[2][0:3])                                                                                  \n",
    "\n",
    "    err = np.linalg.norm(np.hstack([p1_hom-p1_hom_hat, p2_hom-p2_hom_hat]))**2\n",
    "    return err\n",
    "\n",
    "df_calib_lie = jax.jacobian(f_calib_euler)\n",
    "df_calib_lie(np.array([.0, .0, -0.0]))"
   ]
  },
  {
   "cell_type": "code",
   "execution_count": 82,
   "id": "e386e39b-f951-4d6f-9a54-ed338c18eeb0",
   "metadata": {},
   "outputs": [
    {
     "name": "stdout",
     "output_type": "stream",
     "text": [
      "The minimum is 1.907349178509321e-05 \n",
      "the arg min is (1.9200817291675776e-07,-8.549596941520576e-08,-0.7000000476837158)\n"
     ]
    }
   ],
   "source": [
    "H = hessian(f_calib_lie)\n",
    "J = jax.jacfwd(f_calib_lie)\n",
    "\n",
    "@jit\n",
    "def minHessian(x):\n",
    "    return x - 0.5*np.linalg.inv(H(x)) @ J(x)\n",
    "\n",
    "minfunc = jax.vmap(f_calib_euler)\n",
    "\n",
    "key = jax.random.PRNGKey(42)\n",
    "domain = jax.random.uniform(key, shape=(50,3), dtype='float32', minval=-np.pi, maxval=np.pi)\n",
    "\n",
    "vfuncHS = jax.vmap(minHessian)\n",
    "for epoch in range(100):\n",
    "  domain = vfuncHS(domain)\n",
    "\n",
    "\n",
    "minimums = minfunc(domain)\n",
    "\n",
    "# After running the loop, we look for the argmin and the objective minimum\n",
    "\n",
    "arglist = np.nanargmin(minimums)\n",
    "argmin = domain[arglist]\n",
    "minimum = minimums[arglist]\n",
    "argmin = wrap_vec(argmin)\n",
    "print(\"The minimum is {} \\nthe arg min is ({},{},{})\".format(minimum,argmin[0],argmin[1],argmin[2]))"
   ]
  },
  {
   "cell_type": "code",
   "execution_count": 62,
   "id": "742d9dc7-a152-4b4f-911e-e1c4ba729eb4",
   "metadata": {},
   "outputs": [
    {
     "data": {
      "text/plain": [
       "DeviceArray([[ 1.    ,  0.    ,  0.    ],\n",
       "             [ 0.    ,  0.5403,  0.8415],\n",
       "             [ 0.    , -0.8415,  0.5403]], dtype=float32)"
      ]
     },
     "execution_count": 62,
     "metadata": {},
     "output_type": "execute_result"
    }
   ],
   "source": [
    "so3_exp([1, 0, 0])"
   ]
  },
  {
   "cell_type": "code",
   "execution_count": 61,
   "id": "0bbcd1ba-8469-4bca-9f45-4e187114976f",
   "metadata": {},
   "outputs": [
    {
     "data": {
      "text/plain": [
       "DeviceArray([[ 1.    ,  0.    ,  0.    ],\n",
       "             [ 0.    ,  0.5403,  0.8415],\n",
       "             [ 0.    , -0.8415,  0.5403]], dtype=float32)"
      ]
     },
     "execution_count": 61,
     "metadata": {},
     "output_type": "execute_result"
    }
   ],
   "source": [
    "euler2dcm([1, 0, 0])"
   ]
  },
  {
   "cell_type": "code",
   "execution_count": 86,
   "id": "e46368da-172c-4bab-abed-0af2154c8712",
   "metadata": {},
   "outputs": [
    {
     "data": {
      "text/plain": [
       "      fun: 1051210752.0\n",
       " hess_inv: array([[ 0.9124,  0.0755, -0.2726],\n",
       "       [ 0.0755,  0.9434,  0.2344],\n",
       "       [-0.2726,  0.2344,  0.1519]])\n",
       "      jac: array([1.2436e+09, 6.7657e+08, 3.7645e+09], dtype=float32)\n",
       "  message: 'Desired error not necessarily achieved due to precision loss.'\n",
       "     nfev: 63\n",
       "      nit: 1\n",
       "     njev: 51\n",
       "   status: 2\n",
       "  success: False\n",
       "        x: array([-0.3063,  0.1691,  0.0525])"
      ]
     },
     "execution_count": 86,
     "metadata": {},
     "output_type": "execute_result"
    }
   ],
   "source": []
  },
  {
   "cell_type": "code",
   "execution_count": null,
   "id": "17ed25bd-21db-45aa-a10b-26fda2b3e945",
   "metadata": {},
   "outputs": [],
   "source": []
  }
 ],
 "metadata": {
  "interpreter": {
   "hash": "399ab4f333185ab6f27081b33cb96c024f8cfafd7e316c793349c565547f1560"
  },
  "kernelspec": {
   "display_name": "Python 3.9.7 ('visnet')",
   "language": "python",
   "name": "python3"
  },
  "language_info": {
   "codemirror_mode": {
    "name": "ipython",
    "version": 3
   },
   "file_extension": ".py",
   "mimetype": "text/x-python",
   "name": "python",
   "nbconvert_exporter": "python",
   "pygments_lexer": "ipython3",
   "version": "3.9.7"
  }
 },
 "nbformat": 4,
 "nbformat_minor": 5
}
