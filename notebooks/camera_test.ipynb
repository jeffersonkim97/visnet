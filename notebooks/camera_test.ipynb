{
 "cells": [
  {
   "cell_type": "code",
   "execution_count": 5,
   "id": "04fcb6dd-f672-473b-94cb-81fe2fec8b12",
   "metadata": {},
   "outputs": [],
   "source": [
    "import numpy as np\n",
    "import matplotlib.pyplot as plt\n",
    "from mpl_toolkits.mplot3d import Axes3D\n",
    "import cv2 as cv\n",
    "import glob\n",
    "np.set_printoptions(precision=4)"
   ]
  },
  {
   "cell_type": "code",
   "execution_count": 6,
   "id": "13f60b7b-19cc-449e-b538-ab984b01ca15",
   "metadata": {},
   "outputs": [],
   "source": [
    "frame_dir = '../data/frames/'\n",
    "n_cam = 4\n",
    "\n",
    "# cam_dir = [glob.glob(frame_dir+'camera1/*jpg')]\n",
    "cam_dir = []\n",
    "for i in range(1,n_cam+1):\n",
    "    cam_dir.append(glob.glob(frame_dir+'camera'+str(i)+\"/*.jpg\"))\n",
    "    cam_dir[i-1].sort()\n",
    "\n",
    "# [x y z roll pitch yaw]\n",
    "cam_poses = np.array([\n",
    "    [20, 20, 12, 0, 0, -2.2],\n",
    "    [20, -15, 12, 0, 0, 2.2],\n",
    "    [-20, -20, 12, 0, 0, 0.7],\n",
    "    [-20, 20, 12, 0, 0, -0.7],\n",
    "])\n",
    "\n",
    "# 321 Euler sequence\n",
    "def euler2dcm(euler):\n",
    "    from numpy import sin,cos,tan\n",
    "    phi = euler[0]\n",
    "    theta = euler[1]\n",
    "    psi = euler[2]\n",
    "    \n",
    "    dcm = np.array([\n",
    "        [cos(theta)*cos(psi), cos(theta)*sin(psi), -sin(theta)],\n",
    "        [-cos(phi)*sin(psi)+sin(phi)*sin(theta)*cos(psi), cos(phi)*cos(psi)+sin(phi)*sin(theta)*sin(psi), sin(phi)*cos(theta)],\n",
    "        [sin(phi)*sin(psi)+cos(phi)*sin(theta)*cos(psi), -sin(phi)*cos(psi)+cos(phi)*sin(theta)*sin(psi), cos(phi)*cos(theta)]\n",
    "    ])\n",
    "    return dcm\n",
    "\n",
    "def cart2hom(point):\n",
    "    return np.hstack([point,1.0])\n",
    "\n",
    "def hom2cart(coord):\n",
    "    return coord[0:-1]"
   ]
  },
  {
   "cell_type": "markdown",
   "id": "d2b636e1-067a-4251-a3fb-1230caad6a1a",
   "metadata": {},
   "source": [
    "from mpl_toolkits.mplot3d import Axes3D\n",
    "Multiple View Geometry, Chapter 6, p156 \n",
    "$$x_{pixel} = P X_{world}$$\n",
    "$$P = K[R|t] $$\n",
    "\n",
    "$$ t = -R\\tilde{C}$$\n",
    "\n",
    "$$K = \\begin{bmatrix}\n",
    "f_x & s & c_x\\\\\n",
    "    & f_y & c_y\\\\\n",
    "    & & 1\n",
    "\\end{bmatrix}\n",
    "$$\n",
    "\n",
    "\"$R$ is the rotation matrix representing the orientation of the camera coordinate frame, $\\tilde{C}$ is the camera's postion in the world frame\".\n",
    "\n",
    "Another Rotation to consider is from the camera model frame used in gazebo to conventional camera frame used in literature.\n",
    "\n",
    "$$\n",
    "\\begin{bmatrix}\n",
    "0 & 1 & 0\\\\\n",
    "0 & 0 & 1\\\\\n",
    "-1 & 0 & 0\n",
    "\\end{bmatrix}\n",
    "$$\n",
    "\n",
    "From gazebo camera_info:\n",
    "\n",
    "D: [0.0, 0.0, 0.0, 0.0, 0.0]\n",
    "\n",
    "K: [642.0926159343306, 0.0, 1000.5, 0.0, 642.0926159343306, 1000.5, 0.0, 0.0, 1.0]\n",
    "\n",
    "R: [1.0, 0.0, 0.0, 0.0, 1.0, 0.0, 0.0, 0.0, 1.0]\n",
    "\n",
    "P: [642.0926159343306, 0.0, 1000.5, -44.94648311540315, 0.0, 642.0926159343306, 1000.5, 0.0, 0.0, 0.0, 1.0, 0.0]"
   ]
  },
  {
   "cell_type": "code",
   "execution_count": 7,
   "id": "0edcc888-81d8-4c7f-8283-8de0aafb664e",
   "metadata": {},
   "outputs": [],
   "source": [
    "rot_model2cam = np.array([\n",
    "        [0, 1, 0],\n",
    "        [0, 0, 1],\n",
    "        [-1, 0, 0],        \n",
    "    ])\n",
    "\n",
    "def get_cam_in(cam_param):\n",
    "    fx = cam_param[0]\n",
    "    fy = cam_param[1]\n",
    "    cx = cam_param[2]\n",
    "    cy = cam_param[3]\n",
    "    s = cam_param[4]\n",
    "    cam_in = np.array([\n",
    "        [fx, s, cx],\n",
    "        [0, fy, cy],\n",
    "        [0, 0, 1],\n",
    "    ])\n",
    "    return cam_in\n",
    "\n",
    "def get_cam_ex(cam_att):\n",
    "    rot_world2model = euler2dcm(cam_att)\n",
    "    rot_model2cam = - np.array([\n",
    "        [0, 1, 0],\n",
    "        [0, 0, 1],\n",
    "        [-1, 0, 0],        \n",
    "    ])\n",
    "    \n",
    "    cam_ex = rot_model2cam @ rot_world2model\n",
    "    return cam_ex\n",
    "    \n",
    "def get_cam_mat(cam_param, cam_pose):\n",
    "    assert(len(cam_param)==5 and len(cam_pose)==6)\n",
    "    fx = cam_param[0]\n",
    "    fy = cam_param[1]\n",
    "    cx = cam_param[2]\n",
    "    cy = cam_param[3]\n",
    "    s = cam_param[4]\n",
    "    \n",
    "    pos = cam_pose[0:3]\n",
    "    euler = cam_pose[3:6]\n",
    "    \n",
    "    # intrinsic matrix\n",
    "    cam_in = np.array([\n",
    "        [fx, s, cx],\n",
    "        [0, fy, cy],\n",
    "        [0, 0, 1],\n",
    "    ])\n",
    "    \n",
    "    # extrinsic matrix\n",
    "    rot_world2model = euler2dcm(euler)\n",
    "    rot_model2cam = np.array([\n",
    "        [0, 1, 0],\n",
    "        [0, 0, 1],\n",
    "        [-1, 0, 0],        \n",
    "    ])\n",
    "    \n",
    "    cam_ex = rot_model2cam @ rot_world2model\n",
    "    cam_mat = cam_in @ cam_ex @ np.block([np.eye(3), -pos.reshape(-1,1)])\n",
    "    return cam_mat"
   ]
  },
  {
   "cell_type": "code",
   "execution_count": 8,
   "id": "93f51b61-4735-4942-a913-930ca16fc828",
   "metadata": {},
   "outputs": [
    {
     "ename": "ValueError",
     "evalue": "all the input arrays must have same number of dimensions, but the array at index 0 has 1 dimension(s) and the array at index 1 has 2 dimension(s)",
     "output_type": "error",
     "traceback": [
      "\u001b[0;31m---------------------------------------------------------------------------\u001b[0m",
      "\u001b[0;31mValueError\u001b[0m                                Traceback (most recent call last)",
      "\u001b[0;32m/tmp/ipykernel_61543/1208472412.py\u001b[0m in \u001b[0;36m<module>\u001b[0;34m\u001b[0m\n\u001b[1;32m     15\u001b[0m \u001b[0mdrone_coords\u001b[0m \u001b[0;34m=\u001b[0m \u001b[0mnp\u001b[0m\u001b[0;34m.\u001b[0m\u001b[0marray\u001b[0m\u001b[0;34m(\u001b[0m\u001b[0mdrone_coords\u001b[0m\u001b[0;34m)\u001b[0m\u001b[0;34m\u001b[0m\u001b[0;34m\u001b[0m\u001b[0m\n\u001b[1;32m     16\u001b[0m \u001b[0;34m\u001b[0m\u001b[0m\n\u001b[0;32m---> 17\u001b[0;31m \u001b[0mdrone_coords_hom\u001b[0m \u001b[0;34m=\u001b[0m \u001b[0mnp\u001b[0m\u001b[0;34m.\u001b[0m\u001b[0mhstack\u001b[0m\u001b[0;34m(\u001b[0m\u001b[0;34m[\u001b[0m\u001b[0mdrone_coords\u001b[0m\u001b[0;34m,\u001b[0m \u001b[0mnp\u001b[0m\u001b[0;34m.\u001b[0m\u001b[0mones\u001b[0m\u001b[0;34m(\u001b[0m\u001b[0;34m(\u001b[0m\u001b[0mn_frames\u001b[0m\u001b[0;34m,\u001b[0m\u001b[0;36m1\u001b[0m\u001b[0;34m)\u001b[0m\u001b[0;34m)\u001b[0m\u001b[0;34m]\u001b[0m\u001b[0;34m)\u001b[0m\u001b[0;34m\u001b[0m\u001b[0;34m\u001b[0m\u001b[0m\n\u001b[0m\u001b[1;32m     18\u001b[0m \u001b[0;34m\u001b[0m\u001b[0m\n\u001b[1;32m     19\u001b[0m \u001b[0mpixel_coords_hom\u001b[0m \u001b[0;34m=\u001b[0m \u001b[0;34m(\u001b[0m\u001b[0mcam_mat\u001b[0m \u001b[0;34m@\u001b[0m \u001b[0mdrone_coords_hom\u001b[0m\u001b[0;34m.\u001b[0m\u001b[0mT\u001b[0m\u001b[0;34m)\u001b[0m\u001b[0;34m.\u001b[0m\u001b[0mT\u001b[0m\u001b[0;34m\u001b[0m\u001b[0;34m\u001b[0m\u001b[0m\n",
      "\u001b[0;32m<__array_function__ internals>\u001b[0m in \u001b[0;36mhstack\u001b[0;34m(*args, **kwargs)\u001b[0m\n",
      "\u001b[0;32m~/anaconda3/envs/visnet/lib/python3.9/site-packages/numpy/core/shape_base.py\u001b[0m in \u001b[0;36mhstack\u001b[0;34m(tup)\u001b[0m\n\u001b[1;32m    341\u001b[0m     \u001b[0;31m# As a special case, dimension 0 of 1-dimensional arrays is \"horizontal\"\u001b[0m\u001b[0;34m\u001b[0m\u001b[0;34m\u001b[0m\u001b[0m\n\u001b[1;32m    342\u001b[0m     \u001b[0;32mif\u001b[0m \u001b[0marrs\u001b[0m \u001b[0;32mand\u001b[0m \u001b[0marrs\u001b[0m\u001b[0;34m[\u001b[0m\u001b[0;36m0\u001b[0m\u001b[0;34m]\u001b[0m\u001b[0;34m.\u001b[0m\u001b[0mndim\u001b[0m \u001b[0;34m==\u001b[0m \u001b[0;36m1\u001b[0m\u001b[0;34m:\u001b[0m\u001b[0;34m\u001b[0m\u001b[0;34m\u001b[0m\u001b[0m\n\u001b[0;32m--> 343\u001b[0;31m         \u001b[0;32mreturn\u001b[0m \u001b[0m_nx\u001b[0m\u001b[0;34m.\u001b[0m\u001b[0mconcatenate\u001b[0m\u001b[0;34m(\u001b[0m\u001b[0marrs\u001b[0m\u001b[0;34m,\u001b[0m \u001b[0;36m0\u001b[0m\u001b[0;34m)\u001b[0m\u001b[0;34m\u001b[0m\u001b[0;34m\u001b[0m\u001b[0m\n\u001b[0m\u001b[1;32m    344\u001b[0m     \u001b[0;32melse\u001b[0m\u001b[0;34m:\u001b[0m\u001b[0;34m\u001b[0m\u001b[0;34m\u001b[0m\u001b[0m\n\u001b[1;32m    345\u001b[0m         \u001b[0;32mreturn\u001b[0m \u001b[0m_nx\u001b[0m\u001b[0;34m.\u001b[0m\u001b[0mconcatenate\u001b[0m\u001b[0;34m(\u001b[0m\u001b[0marrs\u001b[0m\u001b[0;34m,\u001b[0m \u001b[0;36m1\u001b[0m\u001b[0;34m)\u001b[0m\u001b[0;34m\u001b[0m\u001b[0;34m\u001b[0m\u001b[0m\n",
      "\u001b[0;32m<__array_function__ internals>\u001b[0m in \u001b[0;36mconcatenate\u001b[0;34m(*args, **kwargs)\u001b[0m\n",
      "\u001b[0;31mValueError\u001b[0m: all the input arrays must have same number of dimensions, but the array at index 0 has 1 dimension(s) and the array at index 1 has 2 dimension(s)"
     ]
    }
   ],
   "source": [
    "cam = 0\n",
    "\n",
    "cam_param = [642.0926, 642.0926, 1000.5, 1000.5,0]\n",
    "cam_mat = get_cam_mat(cam_param, cam_poses[cam])\n",
    "# n_frames = min([len(cam_dir[i]) for i in range(n_cam)])\n",
    "n_frames = len(cam_dir[cam])\n",
    "\n",
    "drone_coords = []\n",
    "for i in range(n_frames):\n",
    "    elapsed = i*0.1\n",
    "    x = 30*np.sin(2*np.pi*elapsed*1/3)\n",
    "    y = 15*np.cos(2*np.pi*elapsed*1/3)\n",
    "    z = 20\n",
    "    drone_coords.append([x,y,z])\n",
    "drone_coords = np.array(drone_coords)\n",
    "\n",
    "drone_coords_hom = np.hstack([drone_coords, np.ones((n_frames,1))])\n",
    "\n",
    "pixel_coords_hom = (cam_mat @ drone_coords_hom.T).T\n",
    "\n",
    "pixel_coords = []\n",
    "for coord in pixel_coords_hom:\n",
    "    pixel_coords.append([coord[0]/coord[2], coord[1]/coord[2]])\n",
    "pixel_coords = np.array(pixel_coords)\n",
    "\n",
    "fig = plt.figure()\n",
    "plt.plot(pixel_coords[:,0], pixel_coords[:,1], '.')\n",
    "plt.axis('square')\n",
    "plt.xlim(0,2000)\n",
    "plt.ylim(2000,0)"
   ]
  },
  {
   "cell_type": "code",
   "execution_count": 9,
   "id": "2b0d4d13-5c3c-4048-8de8-f09497c882ff",
   "metadata": {},
   "outputs": [],
   "source": [
    "def draw_box(img, coords):\n",
    "#     p_h = cam_mat@cart2hom(drone_pos)\n",
    "#     p_h = p_h/p_h[-1]\n",
    "\n",
    "#     p = hom2cart(p_h)\n",
    "    box_size = 10\n",
    "    color = (255,255,0)\n",
    "    for row in coords:\n",
    "        start = (row - [box_size, box_size]).astype(np.int32)\n",
    "        end = (row + [box_size, box_size]).astype(np.int32)\n",
    "\n",
    "        thickness = 1\n",
    "        img = cv.rectangle(img, start, end, color, thickness)\n",
    "\n",
    "    return img"
   ]
  },
  {
   "cell_type": "code",
   "execution_count": 10,
   "id": "1210fe5b-c77b-4c89-aa91-c8324f83c21a",
   "metadata": {},
   "outputs": [
    {
     "ename": "IndexError",
     "evalue": "list index out of range",
     "output_type": "error",
     "traceback": [
      "\u001b[0;31m---------------------------------------------------------------------------\u001b[0m",
      "\u001b[0;31mIndexError\u001b[0m                                Traceback (most recent call last)",
      "\u001b[0;32m/tmp/ipykernel_61543/1587378860.py\u001b[0m in \u001b[0;36m<module>\u001b[0;34m\u001b[0m\n\u001b[1;32m      1\u001b[0m \u001b[0mcam_imgs\u001b[0m \u001b[0;34m=\u001b[0m \u001b[0mcam_dir\u001b[0m\u001b[0;34m[\u001b[0m\u001b[0mcam\u001b[0m\u001b[0;34m]\u001b[0m\u001b[0;34m\u001b[0m\u001b[0;34m\u001b[0m\u001b[0m\n\u001b[1;32m      2\u001b[0m \u001b[0mplt\u001b[0m\u001b[0;34m.\u001b[0m\u001b[0mfigure\u001b[0m\u001b[0;34m(\u001b[0m\u001b[0mfigsize\u001b[0m\u001b[0;34m=\u001b[0m\u001b[0;34m(\u001b[0m\u001b[0;36m15\u001b[0m\u001b[0;34m,\u001b[0m\u001b[0;36m15\u001b[0m\u001b[0;34m)\u001b[0m\u001b[0;34m)\u001b[0m\u001b[0;34m\u001b[0m\u001b[0;34m\u001b[0m\u001b[0m\n\u001b[0;32m----> 3\u001b[0;31m \u001b[0mimg\u001b[0m \u001b[0;34m=\u001b[0m \u001b[0mplt\u001b[0m\u001b[0;34m.\u001b[0m\u001b[0mimread\u001b[0m\u001b[0;34m(\u001b[0m\u001b[0mcam_imgs\u001b[0m\u001b[0;34m[\u001b[0m\u001b[0;36m1\u001b[0m\u001b[0;34m]\u001b[0m\u001b[0;34m)\u001b[0m\u001b[0;34m\u001b[0m\u001b[0;34m\u001b[0m\u001b[0m\n\u001b[0m\u001b[1;32m      4\u001b[0m \u001b[0mimg_detect\u001b[0m \u001b[0;34m=\u001b[0m \u001b[0mdraw_box\u001b[0m\u001b[0;34m(\u001b[0m\u001b[0mimg\u001b[0m\u001b[0;34m,\u001b[0m \u001b[0mpixel_coords\u001b[0m\u001b[0;34m)\u001b[0m\u001b[0;34m\u001b[0m\u001b[0;34m\u001b[0m\u001b[0m\n\u001b[1;32m      5\u001b[0m \u001b[0mplt\u001b[0m\u001b[0;34m.\u001b[0m\u001b[0mimshow\u001b[0m\u001b[0;34m(\u001b[0m\u001b[0mimg_detect\u001b[0m\u001b[0;34m)\u001b[0m\u001b[0;34m\u001b[0m\u001b[0;34m\u001b[0m\u001b[0m\n",
      "\u001b[0;31mIndexError\u001b[0m: list index out of range"
     ]
    },
    {
     "data": {
      "text/plain": [
       "<Figure size 1080x1080 with 0 Axes>"
      ]
     },
     "metadata": {},
     "output_type": "display_data"
    }
   ],
   "source": [
    "cam_imgs = cam_dir[cam]\n",
    "plt.figure(figsize=(15,15))\n",
    "img = plt.imread(cam_imgs[1])\n",
    "img_detect = draw_box(img, pixel_coords)\n",
    "plt.imshow(img_detect)"
   ]
  },
  {
   "cell_type": "code",
   "execution_count": 11,
   "id": "06cf86c3-341d-4642-b0db-a7f9d36fa75a",
   "metadata": {},
   "outputs": [],
   "source": [
    "# from matplotlib.animation import FuncAnimation, ArtistAnimation\n",
    "# from IPython.display import HTML\n",
    "\n",
    "# fig, ax = plt.subplots(figsize=(15,15))\n",
    "\n",
    "# ims = []\n",
    "# cam_imgs = cam_dir[cam]\n",
    "# for i in range(n_frames):\n",
    "#     plt.figure(figsize=(15,15))\n",
    "#     img = plt.imread(cam_imgs[i])\n",
    "#     img_detect = draw_box(img, pixel_coords)\n",
    "#     im = ax.imshow(img_detect);\n",
    "#     ims.append([im])\n",
    "\n",
    "# ani = ArtistAnimation(fig, ims, interval=100)\n",
    "# HTML(ani.to_html5_video())"
   ]
  },
  {
   "cell_type": "markdown",
   "id": "62455cc1-b1cd-403e-b6fa-fe8a933682ba",
   "metadata": {},
   "source": [
    "# Calibration\n",
    "Calibrate camera 4 with using the other camera's location <br>\n",
    "Known: Cameras' positions (pos), cameras' pixel coords (from reprojection) <br>\n",
    "Optimize: Camera's orientation (euler) <br>"
   ]
  },
  {
   "cell_type": "code",
   "execution_count": 16,
   "id": "8ca345e9-d308-4761-a120-9faa857e897c",
   "metadata": {},
   "outputs": [],
   "source": [
    "import casadi as ca\n",
    "import so3\n",
    "def euler2dcm_ca(euler):\n",
    "    from casadi import sin,cos\n",
    "    phi = euler[0]\n",
    "    theta = euler[1]\n",
    "    psi = euler[2]\n",
    "    \n",
    "    dcm = ca.SX(3,3)\n",
    "    dcm[0,0] = cos(theta)*cos(psi)\n",
    "    dcm[0,1] = cos(theta)*sin(psi)\n",
    "    dcm[0,2] = -sin(theta)\n",
    "    dcm[1,0] = -cos(phi)*sin(psi)+sin(phi)*sin(theta)*cos(psi)\n",
    "    dcm[1,1] = cos(phi)*cos(psi)+sin(phi)*sin(theta)*sin(psi)\n",
    "    dcm[1,2] = sin(phi)*cos(theta)\n",
    "    dcm[2,0] = sin(phi)*sin(psi)+cos(phi)*sin(theta)*cos(psi)\n",
    "    dcm[2,1] = -sin(phi)*cos(psi)+cos(phi)*sin(theta)*sin(psi)\n",
    "    dcm[2,2] = cos(phi)*cos(theta)\n",
    "#     dcm = ca.MX([\n",
    "#         [cos(theta)*cos(psi), cos(theta)*sin(psi), -sin(theta)],\n",
    "#         [-cos(phi)*sin(psi)+sin(phi)*sin(theta)*cos(psi), cos(phi)*cos(psi)+sin(phi)*sin(theta)*sin(psi), sin(phi)*cos(theta)],\n",
    "#         [sin(phi)*sin(psi)+cos(phi)*sin(theta)*cos(psi), -sin(phi)*cos(psi)+cos(phi)*sin(theta)*sin(psi), cos(phi)*cos(theta)]\n",
    "#     ])\n",
    "    return dcm"
   ]
  },
  {
   "cell_type": "code",
   "execution_count": 17,
   "id": "4daaab24-5dcc-4f40-a698-b58bddb42dd4",
   "metadata": {},
   "outputs": [],
   "source": [
    "def get_cam_mat_ca(cam_param, cam_pos, cam_att):\n",
    "#     assert(len(cam_param)==5 and len(cam_pose)==6)\n",
    "    fx = cam_param[0]\n",
    "    fy = cam_param[1]\n",
    "    cx = cam_param[2]\n",
    "    cy = cam_param[3]\n",
    "    s = cam_param[4]\n",
    "    \n",
    "    pos = cam_pos\n",
    "    euler = cam_att\n",
    "    \n",
    "    # intrinsic matrix\n",
    "    cam_in = ca.SX(3,3)\n",
    "    cam_in[0,0] = fx\n",
    "    cam_in[0,1] = s\n",
    "    cam_in[0,2] = cx\n",
    "    cam_in[1,1] = fy\n",
    "    cam_in[1,2] = cy\n",
    "    cam_in[2,2] = 1\n",
    "    # extrinsic matrix\n",
    "    rot_world2model = euler2dcm_ca(euler)\n",
    "#     rot_world2model = so3.Dcm.from_euler(euler)\n",
    "    rot_model2cam = ca.SX(np.array([\n",
    "        [0, 1, 0],\n",
    "        [0, 0, 1],\n",
    "        [-1, 0, 0],\n",
    "    ]))\n",
    "    \n",
    "    cam_ex = rot_model2cam @ rot_world2model\n",
    "    block = ca.SX(3,4)\n",
    "    block[:,0:3] = cam_ex\n",
    "    block[:,3] = -(cam_ex @ pos)\n",
    "    cam_mat = cam_in @ block\n",
    "    return cam_mat"
   ]
  },
  {
   "cell_type": "code",
   "execution_count": 18,
   "id": "259aa7a9-6be2-4743-95df-ab2e20118a33",
   "metadata": {},
   "outputs": [],
   "source": [
    "def get_cam_mat_lie_ca(cam_param, cam_pos, cam_lie):\n",
    "#     assert(len(cam_param)==5 and len(cam_pose)==6)\n",
    "    fx = cam_param[0]\n",
    "    fy = cam_param[1]\n",
    "    cx = cam_param[2]\n",
    "    cy = cam_param[3]\n",
    "    s = cam_param[4]\n",
    "    \n",
    "    pos = cam_pos\n",
    "    w = cam_lie # so3\n",
    "    \n",
    "    # intrinsic matrix\n",
    "    cam_in = ca.SX(3,3)\n",
    "    cam_in[0,0] = fx\n",
    "    cam_in[0,1] = s\n",
    "    cam_in[0,2] = cx\n",
    "    cam_in[1,1] = fy\n",
    "    cam_in[1,2] = cy\n",
    "    cam_in[2,2] = 1\n",
    "    # extrinsic matrix\n",
    "#     rot_world2model = euler2dcm_ca(euler)\n",
    "    rot_world2model = so3.Dcm.exp(w)\n",
    "    rot_model2cam = ca.SX(np.array([\n",
    "        [0, 1, 0],\n",
    "        [0, 0, 1],\n",
    "        [-1, 0, 0],\n",
    "    ]))\n",
    "    \n",
    "    cam_ex = rot_model2cam @ rot_world2model\n",
    "    block = ca.SX(3,4)\n",
    "    block[:,0:3] = cam_ex\n",
    "    block[:,3] = -(cam_ex @ pos)\n",
    "    cam_mat = cam_in @ block\n",
    "    return cam_mat\n",
    "\n",
    "w = ca.SX.sym('w', 3,1)\n",
    "dcm = ca.SX.sym('dcm', 3,3)\n",
    "euler = ca.SX.sym('euler', 3,1)\n",
    "f_lie2dcm = ca.Function('f_lie2dcm', [w], [so3.Dcm.exp(w)])\n",
    "f_dcm2lie = ca.Function('f_dcm2lie', [dcm], [so3.Dcm.log(dcm)])\n",
    "f_euler2dcm = ca.Function('f_euler2dcm', [euler], [so3.Dcm.from_euler(euler)])\n",
    "f_dcm2euler = ca.Function('f_dcm2euler', [dcm], [so3.Euler.from_dcm(dcm)])\n",
    "f_lie2euler = ca.Function('f_lie2euler', [w], [so3.Euler.from_dcm(so3.Dcm.exp(w))])\n",
    "f_euler2lie = ca.Function('f_euler2lie', [euler], [so3.Dcm.log(so3.Dcm.from_euler(euler))])\n",
    "\n"
   ]
  },
  {
   "cell_type": "code",
   "execution_count": 19,
   "id": "1efc188d-093f-40a4-b7cb-806c76a56297",
   "metadata": {},
   "outputs": [],
   "source": [
    "cam_param_ca = ca.SX.sym('param', 5)\n",
    "cam_pos_ca = ca.SX.sym('pos', 3)\n",
    "cam_att_ca = ca.SX.sym('att', 3)\n",
    "cam_lie_ca = ca.SX.sym('lie', 3)\n",
    "\n",
    "cam_mat_ca = get_cam_mat_ca(cam_param_ca, cam_pos_ca, cam_att_ca)\n",
    "cam_mat_lie_ca = get_cam_mat_lie_ca(cam_param_ca, cam_pos_ca, cam_lie_ca)\n",
    "f_cam_mat = ca.Function('f_cam_mat',[cam_param_ca, cam_pos_ca, cam_att_ca], [cam_mat_ca])\n",
    "f_cam_mat_lie = ca.Function('f_cam_mat_lie',[cam_param_ca, cam_pos_ca, cam_lie_ca], [cam_mat_lie_ca])"
   ]
  },
  {
   "cell_type": "code",
   "execution_count": 20,
   "id": "7f0329e0-08ef-4aed-936f-f32fc9457d2f",
   "metadata": {},
   "outputs": [
    {
     "name": "stdout",
     "output_type": "stream",
     "text": [
      "\n",
      "[[-1000.5, 642.093, 0, -32851.9], \n",
      " [-1000.5, 0, 642.093, -27715.1], \n",
      " [-1, -0, 0, -20]]\n"
     ]
    },
    {
     "data": {
      "text/plain": [
       "array([[-1.0005e+03,  6.4209e+02,  0.0000e+00, -3.2852e+04],\n",
       "       [-1.0005e+03,  0.0000e+00,  6.4209e+02, -2.7715e+04],\n",
       "       [-1.0000e+00,  0.0000e+00,  0.0000e+00, -2.0000e+01]])"
      ]
     },
     "execution_count": 20,
     "metadata": {},
     "output_type": "execute_result"
    }
   ],
   "source": [
    "print(f_cam_mat(cam_param, cam_poses[3][0:3], [0,0,0]))\n",
    "get_cam_mat(cam_param, np.hstack([cam_poses[3][0:3], [0,0,0]]))"
   ]
  },
  {
   "cell_type": "code",
   "execution_count": 21,
   "id": "0eda664e-96a3-40e3-a4c0-a08382c6add0",
   "metadata": {},
   "outputs": [],
   "source": [
    "cam_mat = get_cam_mat(cam_param, cam_poses[3])\n",
    "p1_hom = cam_mat @ cart2hom(cam_poses[1][0:3])\n",
    "p1 = p1_hom[0:2]/p1_hom[2]\n",
    "p2_hom = cam_mat @ cart2hom(cam_poses[2][0:3])\n",
    "p2 = p2_hom[0:2]/p2_hom[2]\n"
   ]
  },
  {
   "cell_type": "code",
   "execution_count": 22,
   "id": "32cf2d2a-03c7-4030-8caa-a47fd92d9c7a",
   "metadata": {},
   "outputs": [
    {
     "data": {
      "text/plain": [
       "array([[ 0.7648, -0.6442,  0.    ],\n",
       "       [ 0.6442,  0.7648,  0.    ],\n",
       "       [ 0.    ,  0.    ,  1.    ]])"
      ]
     },
     "execution_count": 22,
     "metadata": {},
     "output_type": "execute_result"
    }
   ],
   "source": [
    "np.array(f_lie2dcm([0, 0, 0.7]))"
   ]
  },
  {
   "cell_type": "code",
   "execution_count": 23,
   "id": "568e1062-60e6-4a27-99ed-55d8de019d38",
   "metadata": {},
   "outputs": [
    {
     "data": {
      "text/plain": [
       "array([[ 0.7648, -0.6442, -0.    ],\n",
       "       [ 0.6442,  0.7648,  0.    ],\n",
       "       [ 0.    , -0.    ,  1.    ]])"
      ]
     },
     "execution_count": 23,
     "metadata": {},
     "output_type": "execute_result"
    }
   ],
   "source": [
    "euler2dcm([0, 0, -0.7])"
   ]
  },
  {
   "cell_type": "code",
   "execution_count": 24,
   "id": "a21c0319-5f7f-4788-9925-ab8629458389",
   "metadata": {},
   "outputs": [],
   "source": [
    "cam_mat_ca = get_cam_mat_ca(cam_param, cam_poses[3][0:3], cam_att_ca) \n",
    "\n",
    "p1_hom_ca = cam_mat_ca @ cart2hom(cam_poses[1][0:3])\n",
    "p2_hom_ca = cam_mat_ca @ cart2hom(cam_poses[2][0:3])\n",
    "p1_ca = p1_hom_ca[0:2]/p1_hom_ca[2]\n",
    "p2_ca = p2_hom_ca[0:2]/p2_hom_ca[2]"
   ]
  },
  {
   "cell_type": "markdown",
   "id": "c1e54654-1acc-4ca3-8f6f-cd08dc1d68b8",
   "metadata": {},
   "source": [
    "$p_1, p_2$: known pixel coordinates of other cameras <br>\n",
    "$\\hat{p}_1, \\hat{p}_2$: estimated pixel coordinates of other cameras <br>\n",
    "$p = \\text{cat}(p_1,p_2)$ <br>\n",
    "Objective: $||p - \\hat{p}||^2$<br>\n",
    "($\\phi,\\theta,\\psi$) no constraint"
   ]
  },
  {
   "cell_type": "code",
   "execution_count": 25,
   "id": "33e4f89e-a962-4c42-adcf-b9fa56da1df5",
   "metadata": {},
   "outputs": [
    {
     "name": "stdout",
     "output_type": "stream",
     "text": [
      "\n",
      "******************************************************************************\n",
      "This program contains Ipopt, a library for large-scale nonlinear optimization.\n",
      " Ipopt is released as open source code under the Eclipse Public License (EPL).\n",
      "         For more information visit https://github.com/coin-or/Ipopt\n",
      "******************************************************************************\n",
      "\n",
      "This is Ipopt version 3.13.4, running with linear solver mumps.\n",
      "NOTE: Other linear solvers might be more efficient (see Ipopt documentation).\n",
      "\n",
      "Number of nonzeros in equality constraint Jacobian...:        0\n",
      "Number of nonzeros in inequality constraint Jacobian.:        0\n",
      "Number of nonzeros in Lagrangian Hessian.............:        6\n",
      "\n",
      "Total number of variables............................:        3\n",
      "                     variables with only lower bounds:        0\n",
      "                variables with lower and upper bounds:        0\n",
      "                     variables with only upper bounds:        0\n",
      "Total number of equality constraints.................:        1\n",
      "Total number of inequality constraints...............:        0\n",
      "        inequality constraints with only lower bounds:        0\n",
      "   inequality constraints with lower and upper bounds:        0\n",
      "        inequality constraints with only upper bounds:        0\n",
      "\n",
      "iter    objective    inf_pr   inf_du lg(mu)  ||d||  lg(rg) alpha_du alpha_pr  ls\n",
      "   0  1.2591642e+09 0.00e+00 1.00e+02  -1.0 0.00e+00    -  0.00e+00 0.00e+00   0\n",
      "   1  1.0836515e+08 0.00e+00 1.14e+01  -1.0 6.11e-01    -  1.00e+00 1.00e+00f  1\n",
      "   2  9.1805008e+07 0.00e+00 4.65e+00  -1.0 4.43e-02   2.0 1.00e+00 1.00e+00f  1\n",
      "   3  8.6392203e+07 0.00e+00 1.21e+00  -1.0 3.32e-02   1.5 1.00e+00 1.00e+00f  1\n",
      "   4  5.5846302e+07 0.00e+00 4.11e+00  -1.0 2.47e-01   1.0 1.00e+00 1.00e+00f  1\n",
      "   5  1.3014465e+07 0.00e+00 2.19e+00  -1.0 2.11e-01   1.5 1.00e+00 1.00e+00f  1\n",
      "   6  2.0847086e+06 0.00e+00 1.26e+00  -1.0 3.26e-01    -  1.00e+00 1.00e+00f  1\n",
      "   7  5.1297845e+03 0.00e+00 4.91e-02  -1.0 8.28e-02    -  1.00e+00 1.00e+00f  1\n",
      "   8  9.2684226e-02 0.00e+00 1.76e-04  -2.5 5.04e-03    -  1.00e+00 1.00e+00f  1\n",
      "   9  3.5205012e-11 0.00e+00 4.40e-09  -5.7 2.09e-05    -  1.00e+00 1.00e+00f  1\n",
      "\n",
      "Number of Iterations....: 9\n",
      "\n",
      "                                   (scaled)                 (unscaled)\n",
      "Objective...............:   8.1815681408676954e-19    3.5205011613422049e-11\n",
      "Dual infeasibility......:   4.3985176283809501e-09    1.8926672921723092e-01\n",
      "Constraint violation....:   0.0000000000000000e+00    0.0000000000000000e+00\n",
      "Complementarity.........:   0.0000000000000000e+00    0.0000000000000000e+00\n",
      "Overall NLP error.......:   4.3985176283809501e-09    1.8926672921723092e-01\n",
      "\n",
      "\n",
      "Number of objective function evaluations             = 10\n",
      "Number of objective gradient evaluations             = 10\n",
      "Number of equality constraint evaluations            = 10\n",
      "Number of inequality constraint evaluations          = 0\n",
      "Number of equality constraint Jacobian evaluations   = 10\n",
      "Number of inequality constraint Jacobian evaluations = 0\n",
      "Number of Lagrangian Hessian evaluations             = 9\n",
      "Total CPU secs in IPOPT (w/o function evaluations)   =      0.015\n",
      "Total CPU secs in NLP function evaluations           =      0.001\n",
      "\n",
      "EXIT: Optimal Solution Found.\n",
      "x_opt:  [-4.21479e-10, 5.46718e-11, -0.7]\n",
      "[ 0.   0.  -0.7]\n"
     ]
    }
   ],
   "source": [
    "# optimization over euler angles\n",
    "nlp = {'x':cam_att_ca, 'f': ca.norm_2(ca.vertcat(p1_hom-p1_hom_ca, p2_hom-p2_hom_ca))**2, 'g':0}\n",
    "S = ca.nlpsol('S', 'ipopt', nlp, {\n",
    "    'print_time': 0,\n",
    "#         'ipopt': {\n",
    "#             'sb': 'yes',\n",
    "#             'print_level': 0,\n",
    "#             }\n",
    "})\n",
    "r = S(x0=[0,0,-0.01], lbg=0, ubg=0)\n",
    "x_opt = r['x']\n",
    "print('x_opt: ', x_opt)\n",
    "print(cam_poses[3][3:6])"
   ]
  },
  {
   "cell_type": "code",
   "execution_count": 31,
   "id": "7d945ec6-18cd-4435-a584-7a048bd66d5a",
   "metadata": {},
   "outputs": [
    {
     "name": "stdout",
     "output_type": "stream",
     "text": [
      "This is Ipopt version 3.13.4, running with linear solver mumps.\n",
      "NOTE: Other linear solvers might be more efficient (see Ipopt documentation).\n",
      "\n",
      "Number of nonzeros in equality constraint Jacobian...:        0\n",
      "Number of nonzeros in inequality constraint Jacobian.:        0\n",
      "Number of nonzeros in Lagrangian Hessian.............:        6\n",
      "\n",
      "Total number of variables............................:        3\n",
      "                     variables with only lower bounds:        0\n",
      "                variables with lower and upper bounds:        0\n",
      "                     variables with only upper bounds:        0\n",
      "Total number of equality constraints.................:        1\n",
      "Total number of inequality constraints...............:        0\n",
      "        inequality constraints with only lower bounds:        0\n",
      "   inequality constraints with lower and upper bounds:        0\n",
      "        inequality constraints with only upper bounds:        0\n",
      "\n",
      "iter    objective    inf_pr   inf_du lg(mu)  ||d||  lg(rg) alpha_du alpha_pr  ls\n",
      "   0  9.1024677e+08 0.00e+00 1.00e+02  -1.0 0.00e+00    -  0.00e+00 0.00e+00   0\n",
      "   1  2.1026823e+08 0.00e+00 4.02e+01  -1.0 2.58e-01   2.0 1.00e+00 1.00e+00f  1\n",
      "   2  1.3738469e+08 0.00e+00 1.95e+01  -1.0 8.56e-01    -  1.00e+00 1.00e+00f  1\n",
      "   3  8.2670067e+07 0.00e+00 3.19e+00  -1.0 1.04e-01   1.5 1.00e+00 1.00e+00f  1\n",
      "   4  5.8875792e+07 0.00e+00 6.11e+00  -1.0 7.58e-01   1.0 1.00e+00 5.00e-01f  2\n",
      "   5  5.1930492e+07 0.00e+00 1.12e+01  -1.0 8.24e-01    -  1.00e+00 1.00e+00f  1\n",
      "   6  1.2002446e+06 0.00e+00 1.94e+00  -1.0 2.28e-01    -  1.00e+00 1.00e+00f  1\n",
      "   7  4.2678339e+03 0.00e+00 1.02e-01  -1.0 4.21e-02    -  1.00e+00 1.00e+00f  1\n",
      "   8  1.1042636e-01 0.00e+00 5.53e-04  -2.5 2.29e-03    -  1.00e+00 1.00e+00f  1\n",
      "   9  8.3979773e-11 0.00e+00 1.54e-08  -5.7 1.08e-05    -  1.00e+00 1.00e+00f  1\n",
      "iter    objective    inf_pr   inf_du lg(mu)  ||d||  lg(rg) alpha_du alpha_pr  ls\n",
      "  10  1.0587917e-22 0.00e+00 1.98e-14 -12.6 2.71e-10    -  1.00e+00 1.00e+00f  1\n",
      "\n",
      "Number of Iterations....: 10\n",
      "\n",
      "                                   (scaled)                 (unscaled)\n",
      "Objective...............:   3.0521316082182342e-30    1.0587916889388548e-22\n",
      "Dual infeasibility......:   1.9792603840541412e-14    6.8661011839716463e-07\n",
      "Constraint violation....:   0.0000000000000000e+00    0.0000000000000000e+00\n",
      "Complementarity.........:   0.0000000000000000e+00    0.0000000000000000e+00\n",
      "Overall NLP error.......:   1.9792603840541412e-14    6.8661011839716463e-07\n",
      "\n",
      "\n",
      "Number of objective function evaluations             = 16\n",
      "Number of objective gradient evaluations             = 11\n",
      "Number of equality constraint evaluations            = 16\n",
      "Number of inequality constraint evaluations          = 0\n",
      "Number of equality constraint Jacobian evaluations   = 11\n",
      "Number of inequality constraint Jacobian evaluations = 0\n",
      "Number of Lagrangian Hessian evaluations             = 10\n",
      "Total CPU secs in IPOPT (w/o function evaluations)   =      0.009\n",
      "Total CPU secs in NLP function evaluations           =      0.000\n",
      "\n",
      "EXIT: Optimal Solution Found.\n",
      "x_opt:  [3.91591e-16, -1.3591e-17, 0.7]\n",
      "[ 0.   0.  -0.7]\n"
     ]
    },
    {
     "ename": "",
     "evalue": "",
     "output_type": "error",
     "traceback": [
      "\u001b[1;31mThe Kernel crashed while executing code in the the current cell or a previous cell. Please review the code in the cell(s) to identify a possible cause of the failure. Click <a href='https://aka.ms/vscodeJupyterKernelCrash'>here</a> for more info. View Jupyter <a href='command:jupyter.viewOutput'>log</a> for further details."
     ]
    }
   ],
   "source": [
    "# optimization over so3\n",
    "cam_mat_lie_ca = get_cam_mat_lie_ca(cam_param, cam_poses[3][0:3], cam_lie_ca)\n",
    "\n",
    "p1_hom_ca = cam_mat_lie_ca @ cart2hom(cam_poses[1][0:3])\n",
    "p2_hom_ca = cam_mat_lie_ca @ cart2hom(cam_poses[2][0:3])\n",
    "p1_ca = p1_hom_ca[0:2]/p1_hom_ca[2]\n",
    "p2_ca = p2_hom_ca[0:2]/p2_hom_ca[2]\n",
    "\n",
    "nlp = {'x':cam_lie_ca, 'f': ca.norm_2(ca.vertcat(p1_hom-p1_hom_ca, p2_hom-p2_hom_ca))**2, 'g':0}\n",
    "S = ca.nlpsol('S', 'ipopt', nlp, {\n",
    "    'print_time': 0,\n",
    "        'ipopt': {\n",
    "            # 'sb': 'yes',\n",
    "            # 'print_level': 1,\n",
    "            }\n",
    "})\n",
    "\n",
    "r = S(x0=[0, 0, 0.1], lbg=0, ubg=0)\n",
    "x_opt = r['x']\n",
    "print('x_opt: ', x_opt)\n",
    "print(cam_poses[3][3:6])"
   ]
  },
  {
   "cell_type": "code",
   "execution_count": null,
   "id": "ca125e1d-db5e-4bbb-a7f3-6381f4fd3069",
   "metadata": {},
   "outputs": [
    {
     "data": {
      "text/plain": [
       "DM(3.09333e-10)"
      ]
     },
     "execution_count": 48,
     "metadata": {},
     "output_type": "execute_result"
    }
   ],
   "source": [
    "r['f']"
   ]
  },
  {
   "cell_type": "markdown",
   "id": "77f81c6b-70a2-478a-85f3-4b52a5d66c09",
   "metadata": {},
   "source": [
    "## Ray casting\n",
    "If we take the equation of the camera projection and work our way back\n",
    "$$x^h = KR[I | -C] X^h$$ \n",
    "$$ R^{-1}K^{-1}x^h = X - C $$\n",
    "$$B_p x^h = r$$\n",
    "\n",
    "where $B_p$ is the back projection matrix and $r$ is the vector pointing from the camera to the target.\n",
    "A representation of this ray can be written as $$ C - \\lambda \\hat{r}$$, where $C$ is the camera's position and $\\hat{r}$ is the normalized direction vector. The parameter $\\lambda$ tells us the distance between the target and the camera."
   ]
  },
  {
   "cell_type": "code",
   "execution_count": null,
   "id": "30132986-3a9c-454c-9d96-e348167bbf51",
   "metadata": {},
   "outputs": [
    {
     "data": {
      "text/plain": [
       "array([-0.904 , -0.2265,  0.3625])"
      ]
     },
     "execution_count": 31,
     "metadata": {},
     "output_type": "execute_result"
    }
   ],
   "source": [
    "K = get_cam_in(cam_param)\n",
    "R = get_cam_ex(cam_poses[cam][3:6])\n",
    "Bp = np.linalg.inv(K @ R)\n",
    "\n",
    "vec = Bp @ cart2hom(pixel_coords[0,:]).astype('int32') # cast to integer because actual pixels are discrete\n",
    "vec = vec/np.linalg.norm(vec)\n",
    "vec"
   ]
  },
  {
   "cell_type": "code",
   "execution_count": null,
   "id": "5078e982-d309-467b-801e-746c50df7875",
   "metadata": {},
   "outputs": [
    {
     "data": {
      "text/plain": [
       "array([-0.9044, -0.2261,  0.3618])"
      ]
     },
     "execution_count": 32,
     "metadata": {},
     "output_type": "execute_result"
    }
   ],
   "source": [
    "vec_true = drone_coords[0,:] - cam_poses[cam][0:3]\n",
    "dist_true = np.linalg.norm(vec_true)\n",
    "vec_true = vec_true/np.linalg.norm(vec_true)\n",
    "vec_true"
   ]
  },
  {
   "cell_type": "code",
   "execution_count": null,
   "id": "87913b8d-a9d9-44e6-8455-27cb9258adfd",
   "metadata": {},
   "outputs": [
    {
     "data": {
      "text/plain": [
       "Text(0.5, 0, 'y')"
      ]
     },
     "execution_count": 33,
     "metadata": {},
     "output_type": "execute_result"
    },
    {
     "data": {
      "image/png": "[encoded data removed]",
      "text/plain": [
       "<Figure size 432x288 with 1 Axes>"
      ]
     },
     "metadata": {
      "needs_background": "light"
     },
     "output_type": "display_data"
    }
   ],
   "source": [
    "fig = plt.figure()\n",
    "ax = fig.add_subplot(111, projection='3d')\n",
    "\n",
    "ax.plot3D(drone_coords[:,0], drone_coords[:,1], drone_coords[:,2],'.')\n",
    "ax.plot3D(cam_poses[:,0], cam_poses[:,1], cam_poses[:,2], 'rx')\n",
    "ax.quiver(cam_poses[cam,:][0], cam_poses[cam,:][1], cam_poses[cam,:][2], vec[0], vec[1], vec[2])\n",
    "ax.set_xlabel('x')\n",
    "ax.set_ylabel('y')"
   ]
  },
  {
   "cell_type": "markdown",
   "id": "8352829a-4b1e-4ce3-bc50-5879445cf108",
   "metadata": {},
   "source": [
    "## Range finding\n",
    "Know target's size and estimate distance to the camera.\n",
    "\n",
    "IRIS dimension: 550 mm x 550 mm x 110 mm\n",
    "\n",
    "Let the corners of the square bounding boxes be $p_1, p_2, p_3, \\& p_4$, we can cast a ray to each corner, let them be $r_i = \\lambda \\hat{r}_i - C$. The maximum distance between two adjacent corners should be approximately the maximum dimension of the target. In this case, the motor-to-motor distance of IRIS provides the approximate real distance, which is 550 mm.\n",
    "\n",
    "We can consider the distance from the camera center to the corners of the bounding box to be equal thus reducing to only one scale factor $\\lambda$ for all four rays.\n",
    "$\\lambda$ can then be calculated as \n",
    "$$|| (\\lambda \\hat{r}_1- C) - (\\lambda \\hat{r}_2 - C) ||= 550$$\n",
    "$$ \\lambda = \\frac{550}{||\\hat{r}_1-\\hat{r}_2||}$$"
   ]
  },
  {
   "cell_type": "code",
   "execution_count": null,
   "id": "66f01de9-7c00-47ad-a12b-fc7d04526db2",
   "metadata": {},
   "outputs": [
    {
     "data": {
      "text/plain": [
       "22.11334438749598"
      ]
     },
     "execution_count": 34,
     "metadata": {},
     "output_type": "execute_result"
    }
   ],
   "source": [
    "dist_true"
   ]
  },
  {
   "cell_type": "code",
   "execution_count": null,
   "id": "f6300d7d-ad26-43dd-b54e-3dbdfc143212",
   "metadata": {},
   "outputs": [],
   "source": [
    "# suppose the bounding box is 40x40 pixels\n",
    "dimension = np.array([550, 550, 110])\n",
    "box_size = np.array([40,40])\n"
   ]
  }
 ],
 "metadata": {
  "interpreter": {
   "hash": "399ab4f333185ab6f27081b33cb96c024f8cfafd7e316c793349c565547f1560"
  },
  "kernelspec": {
   "display_name": "Python 3.9.7 ('visnet')",
   "language": "python",
   "name": "python3"
  },
  "language_info": {
   "codemirror_mode": {
    "name": "ipython",
    "version": 3
   },
   "file_extension": ".py",
   "mimetype": "text/x-python",
   "name": "python",
   "nbconvert_exporter": "python",
   "pygments_lexer": "ipython3",
   "version": "3.9.7"
  }
 },
 "nbformat": 4,
 "nbformat_minor": 5
}
