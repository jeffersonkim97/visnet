{
 "cells": [
  {
   "cell_type": "code",
   "execution_count": 1,
   "id": "f8146623-9ce5-4a82-b110-ac4c1e9d637a",
   "metadata": {},
   "outputs": [
    {
     "name": "stdout",
     "output_type": "stream",
     "text": [
      "/home/zpyang/git/visnet/src/visnet/notebooks\n"
     ]
    }
   ],
   "source": [
    "%matplotlib qt\n",
    "import numpy as np\n",
    "import matplotlib.pyplot as plt\n",
    "import sys\n",
    "sys.path.insert(0, \"../scripts\")\n",
    "import util\n",
    "import camera\n",
    "from track import Track\n",
    "from scipy.optimize import minimize\n",
    "\n",
    "np.set_printoptions(precision=4)\n",
    "!pwd"
   ]
  },
  {
   "cell_type": "code",
   "execution_count": 2,
   "id": "cac1be9f-21ae-4065-8aee-6f0083a9961e",
   "metadata": {},
   "outputs": [],
   "source": [
    "def target_traj_circle(t):\n",
    "    x = 15*np.sin(2 * np.pi * 0.01 * t / 3)\n",
    "    y = 10*np.cos(2 * np.pi * 0.01 * t / 3)\n",
    "    z = 20\n",
    "    return np.array([x,y,z])\n",
    "\n",
    "def target_traj_straight(t, start, finish, tf):\n",
    "    max_dist = np.linalg.norm(start-finish)\n",
    "    v_max = (finish-start) / tf\n",
    "\n",
    "    return start + v_max * t\n",
    "\n",
    "def target_stationary(start):\n",
    "    return start"
   ]
  },
  {
   "cell_type": "code",
   "execution_count": 3,
   "id": "69cae320-b633-4583-a4b9-2e7b207b81aa",
   "metadata": {},
   "outputs": [],
   "source": [
    "# %%timeit\n",
    "cam_param = [642.0926, 642.0926, 1000.5, 1000.5,0]\n",
    "# [x y z roll pitch yaw]\n",
    "cam_poses = np.array([\n",
    "    [20, 20, 12, 0, 0, -2.2],\n",
    "    [20, -20, 12, 0, 0, 2.2],\n",
    "    [-20, -20, 12, 0, 0, 0.7],\n",
    "    [-20, 20, 12, 0, 0, -0.7],\n",
    "])\n",
    "\n",
    "cam_group = camera.CamGroup(cam_param, cam_poses[0:4,:])\n",
    "\n",
    "n_targets = 2\n",
    "tracks = []\n",
    "\n",
    "t_final = 200\n",
    "\n",
    "verbose = False\n",
    "n_particles = 1000\n",
    "\n",
    "x0_1 = np.array([-20, 3, 17])\n",
    "# x0_1 = np.array([0, 10, 20])\n",
    "# track1 = Track(n_particles, x0=x0_1, label=1)\n",
    "\n",
    "\n",
    "track1 = Track(n_particles, x0=None, label=1)\n",
    "\n",
    "tracks = [track1]\n",
    "tracks_true = x0_1\n",
    "\n",
    "state_est1 = []\n",
    "\n",
    "\n",
    "\n",
    "cov_hist = []\n",
    "\n",
    "for t in range(t_final):\n",
    "    target_1 = target_traj_straight(t, x0_1, x0_1+[40,0,0], t_final)\n",
    "\n",
    "    # target_1 = target_traj_circle(t)\n",
    "\n",
    "    targets = np.vstack([target_1])\n",
    "    tracks_true = np.vstack([tracks_true, targets])\n",
    "\n",
    "    #each camera can give multiple measurements\n",
    "    z = cam_group.get_group_measurement(targets, labels= np.array([1]))\n",
    "\n",
    "    mean_states = np.array([track.mean_state[0:3] for track in tracks])  \n",
    "    mean_hypo = cam_group.get_group_measurement(mean_states, labels=np.array([1]))\n",
    "\n",
    "    z_a = []\n",
    "    for z_m, mean_hypo_m in zip(z, mean_hypo):\n",
    "        rand = np.random.uniform(0,1)\n",
    "        z_a_m, order = util.msmt_association(z_m, mean_hypo_m, sigma=20)\n",
    "        \n",
    "        z_a.append(z_a_m)\n",
    "\n",
    "    for i, track in enumerate(tracks):\n",
    "        msmt = [z_a_m[i] for z_a_m in z_a]\n",
    "        particles = util.dynamics_d(track.particles)\n",
    "        hypo = util.observe_fn(cam_group, track.particles)\n",
    "        weights = util.weight_fn(msmt=msmt, hypo=hypo, sigma=30)\n",
    "        \n",
    "        track.update(weights, particles)\n",
    "        cov_hist.append(track.cov_state)\n"
   ]
  },
  {
   "cell_type": "code",
   "execution_count": 5,
   "id": "4e2058ab",
   "metadata": {},
   "outputs": [
    {
     "name": "stdout",
     "output_type": "stream",
     "text": [
      "[0.1361 0.1351 0.1106] 0.8811299454037975\n"
     ]
    }
   ],
   "source": [
    "plt.rcParams.update({'font.size': 18})\n",
    "traj_1 = np.array(track1.trajectory)\n",
    "\n",
    "fig2 = plt.figure(\"Association accuracy and Track Error\", figsize=(20,10))\n",
    "\n",
    "error = traj_1-tracks_true[0:-1, 0:3]\n",
    "std = np.std(error[80:,:], axis=0)\n",
    "std_cam = np.sqrt(2*20**2) * 20/642\n",
    "print(std, std_cam)\n",
    "\n",
    "ax = plt.axes()\n",
    "ax.plot(traj_1-tracks_true[0:-1, 0:3], label=[\"x\",\"y\",\"z\"])\n",
    "ax.set_xlabel(\"frames\")\n",
    "ax.set_ylabel(\"position error[m]\")\n",
    "ax.grid()\n",
    "ax.legend()\n",
    "plt.title(\"Tracking Error of a Single Target\");\n",
    "\n",
    "\n",
    "\n",
    "# plt.suptitle(\"Maneuvering Target\")"
   ]
  },
  {
   "cell_type": "code",
   "execution_count": 100,
   "id": "3f26e4f0",
   "metadata": {},
   "outputs": [],
   "source": [
    "x\n"
   ]
  },
  {
   "cell_type": "code",
   "execution_count": 26,
   "id": "a5b617c8",
   "metadata": {},
   "outputs": [
    {
     "data": {
      "text/plain": [
       "Text(0.5, 0, 'z[m]')"
      ]
     },
     "execution_count": 26,
     "metadata": {},
     "output_type": "execute_result"
    }
   ],
   "source": [
    "fig = plt.figure(\"trajectory\", figsize=(10,10))\n",
    "\n",
    "ax = plt.axes(projection=\"3d\")\n",
    "\n",
    "ax.plot3D(traj_1[:,0], traj_1[:,1], traj_1[:,2], marker='.', color='b')\n",
    "ax.plot3D(tracks_true[:, 0], tracks_true[:, 1], tracks_true[:, 2], color='y')\n",
    "\n",
    "\n",
    "ax.set_xlim3d(-25,25)\n",
    "ax.set_ylim3d(-25,25)\n",
    "ax.set_zlim3d(0,25)\n",
    "ax.set_xlabel('x[m]')\n",
    "ax.set_ylabel('y[m]')\n",
    "ax.set_zlabel('z[m]')"
   ]
  },
  {
   "cell_type": "code",
   "execution_count": 8,
   "id": "d6d418ef",
   "metadata": {},
   "outputs": [
    {
     "data": {
      "text/plain": [
       "Text(0.5, 1.0, 'Top-Down View of Trajectories of the Target')"
      ]
     },
     "execution_count": 8,
     "metadata": {},
     "output_type": "execute_result"
    }
   ],
   "source": [
    "fig = plt.figure(\"trajectory-2d\", figsize=(10,10))\n",
    "\n",
    "ax = plt.axes()\n",
    "traj_1 = np.array(track1.trajectory)\n",
    "ax.plot(traj_1[:,0], traj_1[:,1], marker='.', color='b', label=\"track 1\")\n",
    "ax.plot(tracks_true[:, 0], tracks_true[:, 1], color='y', label=\"track 1 ground truth\")\n",
    "ax.set_xlim(-25,25)\n",
    "ax.set_ylim(-25,25)\n",
    "ax.set_xlabel('x[m]')\n",
    "ax.set_ylabel('y[m]')\n",
    "ax.grid()\n",
    "ax.legend()\n",
    "ax.set_title(\"Top-Down View of Trajectories of the Target\")\n"
   ]
  },
  {
   "cell_type": "code",
   "execution_count": 22,
   "id": "7f762805-c4c3-4610-b346-53b68593d5a3",
   "metadata": {},
   "outputs": [
    {
     "name": "stdout",
     "output_type": "stream",
     "text": [
      "(300, 1000, 7) (300, 1000)\n"
     ]
    }
   ],
   "source": [
    "from matplotlib.animation import FuncAnimation\n",
    "from IPython.display import HTML\n",
    "from matplotlib import cm\n",
    "# Attaching 3D axis to the figure\n",
    "fig = plt.figure(\"Particle visualization\", figsize=(10, 10))\n",
    "# ax1 = plt.axes(projection=\"3d\")\n",
    "# ax1.view_init(90,-90)\n",
    "ax1 = plt.axes()\n",
    "# ax1 = fig.add_subplot(1, 2, 1, projection=\"3d\")\n",
    "# ax2 = fig.add_subplot(1, 2, 2, projection=\"3d\")\n",
    "\n",
    "\n",
    "particles_1 = np.array(track1.particles_hist)\n",
    "\n",
    "weights_1 = np.array(track1.weights_hist)\n",
    "\n",
    "print(particles_1.shape, weights_1.shape)\n",
    "def update_frame(i):\n",
    "    # NOTE: there is no .set_data() for 3 dim data...\n",
    "    x_1 = particles_1[i, :, 0]\n",
    "    y_1 = particles_1[i, :, 1]\n",
    "    z_1 = particles_1[i, :, 2]\n",
    "    w_1 = weights_1[i, :]\n",
    "\n",
    "    \n",
    "    ax1.cla()\n",
    "    ax1.set_xlim(-25,25)\n",
    "    ax1.set_ylim(-25,25)\n",
    "    ax1.scatter(x_1, y_1, cmap=cm.turbo, c=w_1, s=2)\n",
    "    # ax1.set_xlim3d(-25,25)\n",
    "    # ax1.set_ylim3d(-25,25)\n",
    "    # ax1.set_zlim3d(0,25)\n",
    "    # ax1.scatter(x_1, y_1, z_1, cmap=cm.turbo, c=w_1, s=2)\n",
    "    ax1.set_xlabel('x, m')\n",
    "    ax1.set_ylabel('y, m')\n",
    "    ax1.grid()\n",
    "    # ax1.set_zlabel('z, m')\n",
    "\n",
    "    # if i == 100:\n",
    "    #     plt.savefig(\"../plots/frame_{}\".format(i))\n",
    "        \n",
    "    return None\n",
    "\n",
    "\n",
    "ani = FuncAnimation(\n",
    "    fig, update_frame, t_final, fargs=[],\n",
    "    interval=int(1000 / 10), blit=False)\n",
    "# plt.close()\n",
    "# ani.save(\"../videos/particles.mp4\")\n",
    "# HTML(ani.to_html5_video())\n",
    "# plt.close()"
   ]
  }
 ],
 "metadata": {
  "kernelspec": {
   "display_name": "Python 3 (ipykernel)",
   "language": "python",
   "name": "python3"
  },
  "language_info": {
   "codemirror_mode": {
    "name": "ipython",
    "version": 3
   },
   "file_extension": ".py",
   "mimetype": "text/x-python",
   "name": "python",
   "nbconvert_exporter": "python",
   "pygments_lexer": "ipython3",
   "version": "3.9.7"
  }
 },
 "nbformat": 4,
 "nbformat_minor": 5
}
