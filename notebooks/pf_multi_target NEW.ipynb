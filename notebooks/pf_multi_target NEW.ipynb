{
 "cells": [
  {
   "cell_type": "code",
   "execution_count": 1,
   "id": "f8146623-9ce5-4a82-b110-ac4c1e9d637a",
   "metadata": {},
   "outputs": [
    {
     "name": "stdout",
     "output_type": "stream",
     "text": [
      "/home/zp-yang/git/visnet/src/visnet/notebooks\n"
     ]
    }
   ],
   "source": [
    "%matplotlib qt\n",
    "import numpy as np\n",
    "import matplotlib.pyplot as plt\n",
    "import sys\n",
    "sys.path.insert(0, \"../scripts\")\n",
    "import util\n",
    "import camera\n",
    "from track import Track\n",
    "\n",
    "np.set_printoptions(precision=4)\n",
    "!pwd"
   ]
  },
  {
   "cell_type": "code",
   "execution_count": 2,
   "id": "cac1be9f-21ae-4065-8aee-6f0083a9961e",
   "metadata": {},
   "outputs": [],
   "source": [
    "def target_traj_circle(t):\n",
    "    x = 15*np.sin(2 * np.pi * 0.1 * t / 3)\n",
    "    y = 10*np.cos(2 * np.pi * 0.1 * t / 3)\n",
    "    z = 20\n",
    "    return np.array([x,y,z])\n",
    "\n",
    "def target_traj_straight(t, start, finish, tf):\n",
    "    max_dist = np.linalg.norm(start-finish)\n",
    "    v_max = (finish-start) / tf\n",
    "\n",
    "    return start + v_max * t\n",
    "\n",
    "def target_stationary(start):\n",
    "    return start"
   ]
  },
  {
   "cell_type": "code",
   "execution_count": 3,
   "id": "69cae320-b633-4583-a4b9-2e7b207b81aa",
   "metadata": {},
   "outputs": [],
   "source": [
    "# %%timeit\n",
    "cam_param = [642.0926, 0, 1000.5, 0, 642.0926, 1000.5, 0, 0, 1]\n",
    "cam_params = [cam_param]*4\n",
    "# [x y z roll pitch yaw]\n",
    "cam_poses = np.array([\n",
    "    [20, 20, 12, 0, 0, -2.2],\n",
    "    [20, -20, 12, 0, 0, 2.2],\n",
    "    [-20, -20, 12, 0, 0, 0.7],\n",
    "    [-20, 20, 12, 0, 0, -0.7],\n",
    "])\n",
    "\n",
    "cam_group = camera.CamGroup(cam_params, cam_poses[0:4,:])\n",
    "\n",
    "n_targets = 2\n",
    "tracks = []\n",
    "\n",
    "t_final = 200\n",
    "\n",
    "verbose = False\n",
    "n_particles = 1000\n",
    "\n",
    "x0_1 = np.array([-20, 2, 15])\n",
    "x0_2 = np.array([20, -2, 15])\n",
    "# x0_2 = np.array([0, 10, 20])\n",
    "x0_3 = np.array([5, 20, 15])\n",
    "\n",
    "track1 = Track(n_particles, x0=x0_1, label=1)\n",
    "track2 = Track(n_particles, x0=x0_2, label=1)\n",
    "\n",
    "track3 = None\n",
    "\n",
    "tracks = [track1, track2]\n",
    "tracks_true = np.hstack([x0_1, x0_2])\n",
    "\n",
    "state_est1 = []\n",
    "state_est2 = []\n",
    "\n",
    "association_order = []\n",
    "\n",
    "triag_sol = []\n",
    "\n",
    "for t in range(t_final):\n",
    "    target_1 = target_traj_straight(t, x0_1, x0_1+[40,0,0], t_final)\n",
    "    target_2 = target_traj_straight(t, x0_2, x0_2+[-40,0,0], t_final)\n",
    "\n",
    "    # target_2 = target_traj_circle(t)\n",
    "    # target_1 = target_stationary(x0_1)\n",
    "    # target_2 = target_stationary(x0_2)\n",
    "    targets = np.vstack([target_1, target_2])\n",
    "    tracks_true = np.vstack([tracks_true, targets.reshape(1,6)])\n",
    "\n",
    "    # if t > 100:\n",
    "    #     target_3 = target_traj_straight(t-100, x0_3, x0_3+[0,-30,0], t_final-50)\n",
    "    #     targets = np.vstack([targets, target_3])\n",
    "    #     if track3 is None:\n",
    "    #         track3 = Track(n_particles, target_3, 0)\n",
    "    #         tracks.append(track3)\n",
    "\n",
    "    #each camera can give multiple measurements\n",
    "    z = cam_group.get_group_measurement(targets, labels= np.array([1, 1]))\n",
    "    z_triag = cam_group.get_group_measurement(np.vstack([target_1]), labels=np.array([1, ]))\n",
    "    \n",
    "    triag_sol.append(cam_group.triangulate(z_triag))\n",
    "\n",
    "    mean_states = np.array([track.mean_state[0:3] for track in tracks])  \n",
    "    mean_hypo = cam_group.get_group_measurement(mean_states, labels=np.array([1,1]))\n",
    "\n",
    "    z_a = []\n",
    "    msmt_order = []\n",
    "    for z_m, mean_hypo_m in zip(z, mean_hypo):\n",
    "        rand = np.random.uniform(0,1)\n",
    "        # if rand < 0.2: # 20% chance of getting no measurements\n",
    "        #     z_a_m, order = msmt_association(np.array([[-1,-1,-1]]), mean_hypo_m)\n",
    "        # else:\n",
    "        z_a_m, order = util.msmt_association(z_m, mean_hypo_m, sigma=40)\n",
    "        \n",
    "        z_a.append(z_a_m)\n",
    "        msmt_order.append(order)\n",
    "    association_order.append(msmt_order)\n",
    "\n",
    "    for i, track in enumerate(tracks):\n",
    "        msmt = [z_a_m[i] for z_a_m in z_a]\n",
    "        particles = util.dynamics_d(track.particles)\n",
    "        hypo = util.observe_fn(cam_group, track.particles)\n",
    "        weights = util.weight_fn(msmt=msmt, hypo=hypo, sigma=40)\n",
    "        \n",
    "        track.update(weights, particles)\n"
   ]
  },
  {
   "cell_type": "code",
   "execution_count": 4,
   "id": "adb34140",
   "metadata": {},
   "outputs": [
    {
     "data": {
      "text/plain": [
       "(200, 3)"
      ]
     },
     "execution_count": 4,
     "metadata": {},
     "output_type": "execute_result"
    }
   ],
   "source": [
    "triag_sol = np.array(triag_sol)\n",
    "triag_sol.shape"
   ]
  },
  {
   "cell_type": "code",
   "execution_count": 6,
   "id": "4e2058ab",
   "metadata": {},
   "outputs": [
    {
     "name": "stdout",
     "output_type": "stream",
     "text": [
      "(200, 4, 2)\n"
     ]
    },
    {
     "data": {
      "text/plain": [
       "<matplotlib.legend.Legend at 0x7f81a549e110>"
      ]
     },
     "execution_count": 6,
     "metadata": {},
     "output_type": "execute_result"
    }
   ],
   "source": [
    "plt.rcParams.update({'font.size': 18})\n",
    "association_order = np.array(association_order)\n",
    "print(association_order.shape)\n",
    "association_count = np.sum(association_order, axis=1)\n",
    "track1_rate = (4 - association_count[:, 0]) / 4.0 \n",
    "track2_rate = association_count[:, 1]  / 4.0\n",
    "\n",
    "traj_1 = np.array(track1.trajectory)\n",
    "traj_2 = np.array(track2.trajectory)\n",
    "\n",
    "fig2 = plt.figure(\"Association accuracy and Track Error\", figsize=(15,10))\n",
    "ax1 = fig2.add_subplot(2,2,1)\n",
    "ax1.plot(track1_rate)\n",
    "ax1.set_ylim(0, 1.1)\n",
    "ax1.set_ylabel(\"Association Accuracy\")\n",
    "ax1.set_title(\"Track 1\")\n",
    "ax1.grid()\n",
    "\n",
    "ax2 = fig2.add_subplot(2,2,2)\n",
    "# ax2 = fig2.add_subplot(2,1,1)\n",
    "ax2.plot(track2_rate)\n",
    "ax2.set_ylim(0, 1.1)\n",
    "ax2.set_ylabel(\"Association Accuracy\")\n",
    "ax2.set_title(\"Track 2\")\n",
    "ax2.grid()\n",
    "\n",
    "ax3 = fig2.add_subplot(2,2,3)\n",
    "ax3.plot(traj_1-tracks_true[0:-1, 0:3], label=[\"x\",\"y\",\"z\"])\n",
    "ax3.set_xlabel(\"frames\")\n",
    "ax3.set_ylabel(\"position error[m]\")\n",
    "ax3.grid()\n",
    "ax3.legend()\n",
    "\n",
    "ax4 = fig2.add_subplot(2,2,4)\n",
    "# ax4 = fig2.add_subplot(2,1,2)\n",
    "ax4.plot(traj_2-tracks_true[0:-1, 3:6], label=[\"x\",\"y\",\"z\"])\n",
    "ax4.set_xlabel(\"frames\")\n",
    "ax4.set_ylabel(\"position error[m]\")\n",
    "ax4.grid()\n",
    "ax4.legend()\n",
    "# plt.suptitle(\"Maneuvering Target\")"
   ]
  },
  {
   "cell_type": "code",
   "execution_count": 8,
   "id": "a5b617c8",
   "metadata": {},
   "outputs": [
    {
     "data": {
      "text/plain": [
       "Text(0.5, 0, 'z[m]')"
      ]
     },
     "execution_count": 8,
     "metadata": {},
     "output_type": "execute_result"
    }
   ],
   "source": [
    "fig = plt.figure(\"trajectory\", figsize=(10,10))\n",
    "\n",
    "ax = plt.axes(projection=\"3d\")\n",
    "\n",
    "ax.plot3D(traj_1[:,0], traj_1[:,1], traj_1[:,2], marker='.', color='b')\n",
    "ax.plot3D(tracks_true[:, 0], tracks_true[:, 1], tracks_true[:, 2], color='y')\n",
    "\n",
    "ax.plot3D(traj_2[:,0], traj_2[:,1], traj_2[:,2], marker='.', color='r')\n",
    "ax.plot3D(tracks_true[:, 3], tracks_true[:, 4], tracks_true[:, 5], color='y')\n",
    "\n",
    "# traj_3 = np.array(track3.trajectory)\n",
    "# ax.plot3D(traj_3[:,0], traj_3[:,1], traj_3[:,2], marker='.', color='r')\n",
    "# # ax.plot3D(tracks_true[:, 3], tracks_true[:, 4], tracks_true[:, 5], marker='+', color='y')\n",
    "\n",
    "ax.set_xlim3d(-25,25)\n",
    "ax.set_ylim3d(-25,25)\n",
    "ax.set_zlim3d(0,25)\n",
    "ax.set_xlabel('x[m]')\n",
    "ax.set_ylabel('y[m]')\n",
    "ax.set_zlabel('z[m]')\n"
   ]
  },
  {
   "cell_type": "code",
   "execution_count": 13,
   "id": "7cb154d6",
   "metadata": {},
   "outputs": [
    {
     "data": {
      "text/plain": [
       "(-1.5, 1.5)"
      ]
     },
     "execution_count": 13,
     "metadata": {},
     "output_type": "execute_result"
    }
   ],
   "source": [
    "fig_triag = plt.figure(\"trajectory - triangulation result\", figsize=(10,10))\n",
    "ax = plt.axes(projection=\"3d\")\n",
    "ax.plot3D(traj_1[:,0], traj_1[:,1], traj_1[:,2], marker='.', color='b')\n",
    "ax.plot3D(tracks_true[:, 0], tracks_true[:, 1], tracks_true[:, 2], color='y')\n",
    "\n",
    "ax.plot3D(triag_sol[:,0], triag_sol[:,1], triag_sol[:,2], marker='.', color='r')\n",
    "\n",
    "ax.set_xlim3d(-25,25)\n",
    "ax.set_ylim3d(-25,25)\n",
    "ax.set_zlim3d(0,25)\n",
    "ax.set_xlabel('x[m]')\n",
    "ax.set_ylabel('y[m]')\n",
    "ax.set_zlabel('z[m]')\n",
    "\n",
    "fig_error = plt.figure(\"position error comparison\", figsize=(10,10))\n",
    "ax1 = fig_error.add_subplot(2,1,1)\n",
    "ax1.plot(traj_1-tracks_true[0:-1, 0:3], label=[\"x\",\"y\",\"z\"])\n",
    "ax1.set_xlabel(\"frames\")\n",
    "ax1.set_ylabel(\"PF position error[m]\")\n",
    "ax1.grid()\n",
    "ax1.legend()\n",
    "ax1.set_ylim(-1.5, 1.5)\n",
    "\n",
    "ax2 = fig_error.add_subplot(2,1,2)\n",
    "ax2.plot(triag_sol-tracks_true[0:-1, 0:3], label=[\"x\",\"y\",\"z\"])\n",
    "ax2.set_xlabel(\"frames\")\n",
    "ax2.set_ylabel(\"triagulation position error[m]\")\n",
    "ax2.grid()\n",
    "ax2.legend()\n",
    "ax2.set_ylim(-1.5, 1.5)"
   ]
  },
  {
   "cell_type": "code",
   "execution_count": 25,
   "id": "d6d418ef",
   "metadata": {},
   "outputs": [
    {
     "data": {
      "text/plain": [
       "Text(0.5, 1.0, 'Top-Down View of Trajectories of Two Targets')"
      ]
     },
     "execution_count": 25,
     "metadata": {},
     "output_type": "execute_result"
    }
   ],
   "source": [
    "fig = plt.figure(\"trajectory-2d\", figsize=(10,10))\n",
    "\n",
    "ax = plt.axes()\n",
    "traj_1 = np.array(track1.trajectory)\n",
    "ax.plot(traj_1[:,0], traj_1[:,1], marker='.', color='b', label=\"track 1\")\n",
    "ax.plot(tracks_true[:, 0], tracks_true[:, 1], color='y', label=\"track 1 ground truth\")\n",
    "traj_2 = np.array(track2.trajectory)\n",
    "ax.plot(traj_2[:,0], traj_2[:,1], marker='.', color='r', label=\"track 2\")\n",
    "ax.plot(tracks_true[:, 3], tracks_true[:, 4], color='c', label=\"track 2 ground truth\")\n",
    "ax.set_xlim(-25,25)\n",
    "ax.set_ylim(-25,25)\n",
    "ax.set_xlabel('x[m]')\n",
    "ax.set_ylabel('y[m]')\n",
    "ax.grid()\n",
    "ax.legend()\n",
    "ax.set_title(\"Top-Down View of Trajectories of Two Targets\")\n",
    "# ax.set_title(\"Top-Down View of a Maneuvering Target\")\n"
   ]
  },
  {
   "cell_type": "code",
   "execution_count": 26,
   "id": "7f762805-c4c3-4610-b346-53b68593d5a3",
   "metadata": {},
   "outputs": [
    {
     "name": "stdout",
     "output_type": "stream",
     "text": [
      "(200, 1000, 7) (200, 1000)\n"
     ]
    }
   ],
   "source": [
    "from matplotlib.animation import FuncAnimation\n",
    "from IPython.display import HTML\n",
    "from matplotlib import cm\n",
    "# Attaching 3D axis to the figure\n",
    "fig = plt.figure(\"Particle visualization\", figsize=(20, 10))\n",
    "ax1 = plt.axes(projection=\"3d\")\n",
    "# ax1 = fig.add_subplot(1, 2, 1, projection=\"3d\")\n",
    "# ax2 = fig.add_subplot(1, 2, 2, projection=\"3d\")\n",
    "ax1.view_init(90,-90)\n",
    "\n",
    "particles_1 = np.array(track1.particles_hist)\n",
    "particles_2 = np.array(track2.particles_hist)\n",
    "\n",
    "weights_1 = np.array(track1.weights_hist)\n",
    "weights_2 = np.array(track2.weights_hist)\n",
    "\n",
    "print(particles_1.shape, weights_1.shape)\n",
    "def update_frame(i):\n",
    "    # NOTE: there is no .set_data() for 3 dim data...\n",
    "    x_1 = particles_1[i, :, 0]\n",
    "    y_1 = particles_1[i, :, 1]\n",
    "    z_1 = particles_1[i, :, 2]\n",
    "    w_1 = weights_1[i, :]\n",
    "\n",
    "    x_2 = particles_2[i, :, 0]\n",
    "    y_2 = particles_2[i, :, 1]\n",
    "    z_2 = particles_2[i, :, 2]\n",
    "    w_2 = weights_2[i, :]\n",
    "    \n",
    "    ax1.cla()\n",
    "    ax1.set_xlim3d(-25,25)\n",
    "    ax1.set_ylim3d(-25,25)\n",
    "    ax1.set_zlim3d(0,25)\n",
    "    ax1.scatter(x_1, y_1, z_1, cmap=cm.turbo, c=w_1, s=2)\n",
    "    ax1.scatter(x_2, y_2, z_2, cmap=cm.turbo, c=w_2, s=2)\n",
    "    ax1.set_xlabel('x, m')\n",
    "    ax1.set_ylabel('y, m')\n",
    "    ax1.set_zlabel('z, m')\n",
    "        \n",
    "    return None\n",
    "\n",
    "\n",
    "ani = FuncAnimation(\n",
    "    fig, update_frame, t_final, fargs=[],\n",
    "    interval=int(1000 / 10), blit=False)\n",
    "# ani.save(\"../videos/particles.mp4\")\n",
    "# HTML(ani.to_html5_video())\n",
    "# plt.close()"
   ]
  },
  {
   "cell_type": "code",
   "execution_count": null,
   "id": "f0bb6a89",
   "metadata": {},
   "outputs": [],
   "source": []
  }
 ],
 "metadata": {
  "kernelspec": {
   "display_name": "Python 3.10.4 ('visnet')",
   "language": "python",
   "name": "python3"
  },
  "language_info": {
   "codemirror_mode": {
    "name": "ipython",
    "version": 3
   },
   "file_extension": ".py",
   "mimetype": "text/x-python",
   "name": "python",
   "nbconvert_exporter": "python",
   "pygments_lexer": "ipython3",
   "version": "3.10.4"
  },
  "vscode": {
   "interpreter": {
    "hash": "13e891009f24ca04689593595b0d3a7a406a28758f58a3b191e2e7561068fbae"
   }
  }
 },
 "nbformat": 4,
 "nbformat_minor": 5
}
